{
    "cells": [
        {
            "cell_type": "markdown",
            "metadata": {},
            "source": [
                "# Choice Learn\n",
                "El presente notebook tiene como objetivo replicar los experimentos relacionados al dataset SwissMetro estudiado en el paper relativo a L-MNL, entendiendo así las características y herramientas propias que la librería ofrece."
            ]
        },
        {
            "cell_type": "code",
            "execution_count": null,
            "metadata": {
                "vscode": {
                    "languageId": "plaintext"
                }
            },
            "outputs": [],
            "source": [
                "from"
            ]
        }
    ],
    "metadata": {
        "language_info": {
            "name": "python"
        }
    },
    "nbformat": 4,
    "nbformat_minor": 2
}
