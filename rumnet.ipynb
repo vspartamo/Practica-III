{
  "cells": [
    {
      "cell_type": "markdown",
      "metadata": {
        "id": "n_r7U-K5iMUT"
      },
      "source": [
        "## Introduction to modelling with RUMnet\n",
        "\n",
        "[![Open In Colab](https://colab.research.google.com/assets/colab-badge.svg)](https://colab.research.google.com/github/artefactory/choice-learn/blob/main/notebooks/models/rumnet.ipynb)\n"
      ]
    },
    {
      "cell_type": "markdown",
      "metadata": {},
      "source": [
        "En el siguiente notebook se presenta una revisión asociada al paper de Representing Random Utility Choice Models\n",
        "with Neural Networks usando el dataset de SwissMetro.\n"
      ]
    },
    {
      "cell_type": "markdown",
      "metadata": {},
      "source": [
        "## Introducción"
      ]
    },
    {
      "cell_type": "markdown",
      "metadata": {},
      "source": [
        "### Marco teorico"
      ]
    },
    {
      "attachments": {
        "Diagrama.png": {
          "image/png": "[encoded data removed]"
        }
      },
      "cell_type": "markdown",
      "metadata": {},
      "source": [
        "A continuación, la arquitectura planteada del modelo en el paper:\n",
        "\n",
        "\n",
        "![Diagrama.png](attachment:Diagrama.png)"
      ]
    },
    {
      "cell_type": "markdown",
      "metadata": {},
      "source": [
        "### Input del modelo:"
      ]
    },
    {
      "cell_type": "markdown",
      "metadata": {},
      "source": [
        "**Importante**: Este modelo tiene 2 implementaciones según las caracteristicas del ordenador, para la revisión de este codigo se utilizo la versión CPURUMNet, ya que antes de todo, se comprueba la presencia de GPU en el computador, y en caso contrario, se importa CPURUMnet como RUMnet."
      ]
    },
    {
      "cell_type": "markdown",
      "metadata": {},
      "source": [
        "Se observa que el modelo recibe los siguientes parametros o argumentos:\n",
        "- ``num_products_features``: \"Número de características para describir cada producto. En términos de ChoiceDataset, equivale a la suma de { items_features + contexts_items_features } por producto.\",\n",
        "- ``num_customer_features``: \"Número de características para describir cada cliente. En términos de ChoiceDataset, equivale al número de contexts_features.\",\n",
        "- ``width_eps_x``: \"Número de neuronas en cada capa densa para la red de codificación de productos.\",\n",
        "- ``depth_eps_x``: \"Número de capas densas para la red de codificación de productos.\",\n",
        "- ``heterogeneity_x``: \"Número de redes para codificar las características de los productos.\",\n",
        "- ``width_eps_z``: \"Número de neuronas en cada capa densa para la red de codificación de clientes.\",\n",
        "- ``depth_eps_z``: \"Número de capas densas para la red de codificación de clientes.\",\n",
        "- ``heterogeneity_z``: \"Número de redes para codificar las características de los clientes.\",\n",
        "- ``width_u``: \"Número de neuronas en cada capa densa para la red de utilidades.\",\n",
        "- ``depth_u``: \"Número de capas densas para la red de utilidades.\",\n",
        "- ``tol``: \"Tolerancia para los cálculos, aún por implementar.\",\n",
        "- ``optimizer``: \"Representación en texto del optimizador a usar. Por defecto es Adam si no se especifica. Debe ser compatible con tf.keras.optimizers.\",\n",
        "- ``lr``: \"Tasa de aprendizaje inicial asociada al optimizador.\",\n",
        "- ``add_exit_choice``: \"Indica si se debe agregar una opción de salida con utilidad 1. Por defecto es True.\",\n",
        "- ``logmin``: \"Valor agregado en cálculos logarítmicos para evitar infinito. Por defecto es 1e-5.\",\n",
        "- ``l2_regularization_coef``: \"Coeficiente de regularización L2 para los pesos de las capas densas durante el entrenamiento. Por defecto es 0.0.\",\n",
        "- ``label_smoothing``: \"Parámetro opcional para ajustar el suavizado de etiquetas durante el entrenamiento.\"\n",
        "\n",
        "\n"
      ]
    },
    {
      "cell_type": "markdown",
      "metadata": {},
      "source": [
        "### Creación de redes neuronales:\n",
        "\n",
        "#### Create_ff_network:\n",
        "\n",
        "Esta función genera una red neuronal densa feed-forward, con profundidad, ancho y funciones de activación asociadas a esta.\n",
        "\n",
        "```python\n",
        "def create_ff_network(\n",
        "    input_shape,\n",
        "    depth,\n",
        "    width,\n",
        "    activation=\"elu\",\n",
        "    add_last=False,\n",
        "    l2_regularization_coeff=0.0,\n",
        "):\n",
        "    input = tf.keras.layers.Input(shape=input_shape)\n",
        "    regularizer = tf.keras.regularizers.L2(l2_regularization_coeff)\n",
        "    out = input\n",
        "    for _ in range(depth):\n",
        "        out = tf.keras.layers.Dense(\n",
        "            width, activation=activation, kernel_regularizer=regularizer, use_bias=True\n",
        "        )(out)\n",
        "    if add_last:\n",
        "        out = tf.keras.layers.Dense(1, activation=\"linear\", use_bias=False)(out)\n",
        "    return tf.keras.Model(inputs=input, outputs=out)\n",
        "```\n",
        "\n",
        "#### recreate_official_nets:\n",
        "Esta función crea las redes asociadas al modelo, dado cierto ancho, profundidad y heterogeneidad asociada al modelo.\n",
        "\n",
        "```python\n",
        "def recreate_official_nets(\n",
        "    num_products_features,\n",
        "    x_width,\n",
        "    x_depth,\n",
        "    x_eps,\n",
        "    num_customer_features,\n",
        "    z_width,\n",
        "    z_depth,\n",
        "    z_eps,\n",
        "    width_u,\n",
        "    depth_u,\n",
        "    l2_regularization_coeff=0.0,\n",
        "):\n",
        "    # Products and Customers embeddings nets, quiet symmetrical\n",
        "    products_input = tf.keras.layers.Input(shape=(num_products_features,))\n",
        "    customer_input = tf.keras.layers.Input(shape=(num_customer_features,))\n",
        "    x_embeddings = []\n",
        "    z_embeddings = []\n",
        "\n",
        "    # Creating independant nets for each heterogeneity\n",
        "    for _ in range(x_eps):\n",
        "        x_embedding = create_ff_network(\n",
        "            input_shape=(num_products_features,),\n",
        "            depth=x_depth,\n",
        "            width=x_width,\n",
        "            l2_regularization_coeff=l2_regularization_coeff,\n",
        "        )(products_input)\n",
        "        x_embeddings.append(x_embedding)\n",
        "\n",
        "    # Creating independant nets for each heterogeneity\n",
        "    for _ in range(z_eps):\n",
        "        z_embedding = create_ff_network(\n",
        "            input_shape=(num_customer_features,),\n",
        "            depth=z_depth,\n",
        "            width=z_width,\n",
        "            l2_regularization_coeff=l2_regularization_coeff,\n",
        "        )(customer_input)\n",
        "\n",
        "        z_embeddings.append(z_embedding)\n",
        "\n",
        "    x_net = tf.keras.Model(inputs=products_input, outputs=x_embeddings, name=\"X_embedding\")\n",
        "    z_net = tf.keras.Model(inputs=customer_input, outputs=z_embeddings, name=\"Z_embedding\")\n",
        "\n",
        "    # Utility network\n",
        "    u_net = create_ff_network(\n",
        "        input_shape=(\n",
        "            x_width + z_width + num_products_features + num_customer_features,\n",
        "        ),  # Input shape from previous nets\n",
        "        width=width_u,\n",
        "        depth=depth_u,\n",
        "        add_last=True,  # Add last for utility\n",
        "        l2_regularization_coeff=l2_regularization_coeff,\n",
        "    )\n",
        "\n",
        "    return x_net, z_net, u_net\n",
        "```\n"
      ]
    },
    {
      "cell_type": "code",
      "execution_count": 1,
      "metadata": {
        "id": "ffZypCWoiMUc"
      },
      "outputs": [],
      "source": [
        "# Install necessary requirements\n",
        "\n",
        "# If you run this notebook on Google Colab, or in standalone mode, you need to install the required packages.\n",
        "# Uncomment the following lines:\n",
        "\n",
        "# !pip install choice-learn\n",
        "\n",
        "# If you run the notebook within the GitHub repository, you need to run the following lines, that can skipped otherwise:\n",
        "import os\n",
        "import sys\n",
        "\n",
        "sys.path.append(\"../../\")"
      ]
    },
    {
      "cell_type": "code",
      "execution_count": 2,
      "metadata": {
        "id": "EK7steNDiMUf"
      },
      "outputs": [],
      "source": [
        "import os\n",
        "# Remove/Add GPU use\n",
        "os.environ[\"CUDA_VISIBLE_DEVICES\"] = \"1\"\n",
        "\n",
        "import matplotlib.pyplot as plt\n",
        "import numpy as np\n",
        "import pandas as pd\n",
        "import tensorflow as tf\n",
        "\n",
        "from choice_learn.data import ChoiceDataset\n",
        "from choice_learn.models import RUMnet\n",
        "from choice_learn.datasets import load_swissmetro"
      ]
    },
    {
      "cell_type": "markdown",
      "metadata": {
        "id": "vTEh9OaiiMUg"
      },
      "source": [
        "Notar que hay 2 implementaciones de RUMnet: una CPU-orientada y la otra GPU-orientada,\n",
        "La importación del modelo correcta es automatica. Tambine se puede importar el modelo directamente con:\n",
        "\n",
        "```python\n",
        "from choice_learn.models import CPURUMnet, GPURUMnet\n",
        "```\n",
        "\n",
        "Primero, se descarga el data set de swissmetro:"
      ]
    },
    {
      "cell_type": "markdown",
      "metadata": {
        "id": "gK_WOxOtiMUh"
      },
      "source": [
        "We follow the same data preparation as in the original paper in order to get the exact same results.\n"
      ]
    },
    {
      "cell_type": "markdown",
      "metadata": {
        "id": "_k1OcSANiMUh"
      },
      "source": [
        "Ahora, se crea el Choicedataset a partir del dataset."
      ]
    },
    {
      "cell_type": "code",
      "execution_count": 18,
      "metadata": {
        "id": "zIjac2aBiMUk"
      },
      "outputs": [
        {
          "name": "stderr",
          "output_type": "stream",
          "text": [
            "WARNING:root:Shared Features Names were not provided, will not be able to\n",
            "                                    fit models needing them such as Conditional Logit.\n",
            "WARNING:root:Items Features Names were not provided, will not be able to\n",
            "                                fit models needing them such as Conditional Logit.\n"
          ]
        }
      ],
      "source": [
        "dataset = load_swissmetro(as_frame=False, preprocessing=\"rumnet\")"
      ]
    },
    {
      "cell_type": "markdown",
      "metadata": {
        "id": "zhx6-YsliMUm"
      },
      "source": [
        "Let's Cross-Validate !\n",
        "We keep a scikit-learn-like structure.\n",
        "To avoid creating dependancies, we use a different train/test split code, but the following would totally work:\n",
        "\n",
        "\n",
        "```python\n",
        "from sklearn.model_selection import ShuffleSplit\n",
        "\n",
        "rs = ShuffleSplit(n_splits=5, test_size=.2, random_state=0)\n",
        "\n",
        "for i, (train_index, test_index) in enumerate(rs.split(dataset.choices)):\n",
        "    train_dataset = dataset[train_index]\n",
        "    test_dataset = dataset[test_index]\n",
        "\n",
        "    model = RUMnet(**args)\n",
        "    model.instantiate()\n",
        "    model.fit(train_dataset)\n",
        "    model.evaluate(test_dataset)\n",
        "```\n",
        "\n",
        "We just use a numpy based split, but the core code is the same!"
      ]
    },
    {
      "cell_type": "code",
      "execution_count": 20,
      "metadata": {
        "id": "8cmRVGxQiMUo"
      },
      "outputs": [],
      "source": [
        "model_args = {\n",
        "    \"num_products_features\": 6,\n",
        "    \"num_customer_features\": 83,\n",
        "    \"width_eps_x\": 20,\n",
        "    \"depth_eps_x\": 5,\n",
        "    \"heterogeneity_x\": 10,\n",
        "    \"width_eps_z\": 20,\n",
        "    \"depth_eps_z\": 5,\n",
        "    \"heterogeneity_z\": 10,\n",
        "    \"width_u\": 20,\n",
        "    \"depth_u\": 5,\n",
        "    \"optimizer\": \"Adam\",\n",
        "    \"lr\": 0.0002,\n",
        "    \"logmin\": 1e-10,\n",
        "    \"label_smoothing\": 0.02,\n",
        "    \"callbacks\": [],\n",
        "    \"epochs\": 140,\n",
        "    \"batch_size\": 32,\n",
        "    \"tol\": 0,\n",
        "}"
      ]
    },
    {
      "cell_type": "code",
      "execution_count": 5,
      "metadata": {
        "id": "A_49XHvsiMUp"
      },
      "outputs": [
        {
          "name": "stderr",
          "output_type": "stream",
          "text": [
            "WARNING:root:Shared Features Names were not provided, will not be able to\n",
            "                                    fit models needing them such as Conditional Logit.\n",
            "WARNING:root:Items Features Names were not provided, will not be able to\n",
            "                                fit models needing them such as Conditional Logit.\n",
            "WARNING:root:Shared Features Names were not provided, will not be able to\n",
            "                                    fit models needing them such as Conditional Logit.\n",
            "WARNING:root:Items Features Names were not provided, will not be able to\n",
            "                                fit models needing them such as Conditional Logit.\n",
            "Epoch 139 Train Loss 0.4926: 100%|██████████| 140/140 [28:46<00:00, 12.33s/it]\n",
            "WARNING:root:Shared Features Names were not provided, will not be able to\n",
            "                                    fit models needing them such as Conditional Logit.\n",
            "WARNING:root:Items Features Names were not provided, will not be able to\n",
            "                                fit models needing them such as Conditional Logit.\n",
            "WARNING:root:Shared Features Names were not provided, will not be able to\n",
            "                                    fit models needing them such as Conditional Logit.\n",
            "WARNING:root:Items Features Names were not provided, will not be able to\n",
            "                                fit models needing them such as Conditional Logit.\n"
          ]
        },
        {
          "name": "stdout",
          "output_type": "stream",
          "text": [
            "[<tf.Tensor: shape=(), dtype=float32, numpy=0.5530202>]\n"
          ]
        },
        {
          "name": "stderr",
          "output_type": "stream",
          "text": [
            "Epoch 139 Train Loss 0.4747: 100%|██████████| 140/140 [31:02<00:00, 13.30s/it] \n",
            "WARNING:root:Shared Features Names were not provided, will not be able to\n",
            "                                    fit models needing them such as Conditional Logit.\n",
            "WARNING:root:Items Features Names were not provided, will not be able to\n",
            "                                fit models needing them such as Conditional Logit.\n",
            "WARNING:root:Shared Features Names were not provided, will not be able to\n",
            "                                    fit models needing them such as Conditional Logit.\n",
            "WARNING:root:Items Features Names were not provided, will not be able to\n",
            "                                fit models needing them such as Conditional Logit.\n"
          ]
        },
        {
          "name": "stdout",
          "output_type": "stream",
          "text": [
            "[<tf.Tensor: shape=(), dtype=float32, numpy=0.5530202>, <tf.Tensor: shape=(), dtype=float32, numpy=0.5195703>]\n"
          ]
        },
        {
          "name": "stderr",
          "output_type": "stream",
          "text": [
            "Epoch 139 Train Loss 0.4790: 100%|██████████| 140/140 [22:36<00:00,  9.69s/it]\n",
            "WARNING:root:Shared Features Names were not provided, will not be able to\n",
            "                                    fit models needing them such as Conditional Logit.\n",
            "WARNING:root:Items Features Names were not provided, will not be able to\n",
            "                                fit models needing them such as Conditional Logit.\n",
            "WARNING:root:Shared Features Names were not provided, will not be able to\n",
            "                                    fit models needing them such as Conditional Logit.\n",
            "WARNING:root:Items Features Names were not provided, will not be able to\n",
            "                                fit models needing them such as Conditional Logit.\n"
          ]
        },
        {
          "name": "stdout",
          "output_type": "stream",
          "text": [
            "[<tf.Tensor: shape=(), dtype=float32, numpy=0.5530202>, <tf.Tensor: shape=(), dtype=float32, numpy=0.5195703>, <tf.Tensor: shape=(), dtype=float32, numpy=0.5571601>]\n"
          ]
        },
        {
          "name": "stderr",
          "output_type": "stream",
          "text": [
            "Epoch 139 Train Loss 0.4652: 100%|██████████| 140/140 [23:15<00:00,  9.97s/it]\n",
            "WARNING:root:Shared Features Names were not provided, will not be able to\n",
            "                                    fit models needing them such as Conditional Logit.\n",
            "WARNING:root:Items Features Names were not provided, will not be able to\n",
            "                                fit models needing them such as Conditional Logit.\n",
            "WARNING:root:Shared Features Names were not provided, will not be able to\n",
            "                                    fit models needing them such as Conditional Logit.\n",
            "WARNING:root:Items Features Names were not provided, will not be able to\n",
            "                                fit models needing them such as Conditional Logit.\n"
          ]
        },
        {
          "name": "stdout",
          "output_type": "stream",
          "text": [
            "[<tf.Tensor: shape=(), dtype=float32, numpy=0.5530202>, <tf.Tensor: shape=(), dtype=float32, numpy=0.5195703>, <tf.Tensor: shape=(), dtype=float32, numpy=0.5571601>, <tf.Tensor: shape=(), dtype=float32, numpy=0.5734286>]\n"
          ]
        },
        {
          "name": "stderr",
          "output_type": "stream",
          "text": [
            "Epoch 139 Train Loss 0.4524: 100%|██████████| 140/140 [22:51<00:00,  9.80s/it]\n"
          ]
        },
        {
          "name": "stdout",
          "output_type": "stream",
          "text": [
            "[<tf.Tensor: shape=(), dtype=float32, numpy=0.5530202>, <tf.Tensor: shape=(), dtype=float32, numpy=0.5195703>, <tf.Tensor: shape=(), dtype=float32, numpy=0.5571601>, <tf.Tensor: shape=(), dtype=float32, numpy=0.5734286>, <tf.Tensor: shape=(), dtype=float32, numpy=0.58028436>]\n"
          ]
        }
      ],
      "source": [
        "indexes = np.random.permutation(list(range(len(dataset))))\n",
        "\n",
        "fit_losses = []\n",
        "test_eval = []\n",
        "for i in range(5):\n",
        "    test_indexes = indexes[int(len(indexes) * 0.2 * i):int(len(indexes) * 0.2 * (i + 1))]\n",
        "    train_indexes = np.concatenate([indexes[:int(len(indexes) * 0.2 * i)],\n",
        "                                    indexes[int(len(indexes) * 0.2 * (i + 1)):]],\n",
        "                                   axis=0)\n",
        "\n",
        "    train_dataset = dataset[train_indexes]\n",
        "    test_dataset = dataset[test_indexes]\n",
        "\n",
        "    model = RUMnet(**model_args)\n",
        "    model.instantiate()\n",
        "       \n",
        "    losses = model.fit(train_dataset, val_dataset=test_dataset)\n",
        "    probas = model.predict_probas(test_dataset)\n",
        "    eval = tf.keras.losses.CategoricalCrossentropy(from_logits=False)(y_pred=model.predict_probas(test_dataset), y_true=tf.one_hot(test_dataset.choices, 3))\n",
        "    test_eval.append(eval)\n",
        "    print(test_eval)\n",
        "\n",
        "    fit_losses.append(losses)"
      ]
    },
    {
      "cell_type": "code",
      "execution_count": 6,
      "metadata": {
        "id": "sPsMpZ0ViMUq"
      },
      "outputs": [
        {
          "data": {
            "text/plain": [
              "<matplotlib.legend.Legend at 0x29f6520fc50>"
            ]
          },
          "execution_count": 6,
          "metadata": {},
          "output_type": "execute_result"
        },
        {
          "data": {
            "image/png": "[encoded data removed]",
            "text/plain": [
              "<Figure size 640x480 with 1 Axes>"
            ]
          },
          "metadata": {},
          "output_type": "display_data"
        }
      ],
      "source": [
        "cmap = plt.cm.coolwarm\n",
        "colors = [cmap(j / 4) for j in range(5)]\n",
        "for i in range(len(fit_losses)):\n",
        "    plt.plot(fit_losses[i][\"train_loss\"], c=colors[i], linestyle=\"--\")\n",
        "    plt.plot(fit_losses[i][\"test_loss\"], label=f\"fold {i}\", c=colors[i])\n",
        "plt.legend()"
      ]
    },
    {
      "cell_type": "code",
      "execution_count": 7,
      "metadata": {
        "id": "5HGEix2ciMUq"
      },
      "outputs": [
        {
          "data": {
            "text/plain": [
              "<tf.Tensor: shape=(), dtype=float32, numpy=0.5803154>"
            ]
          },
          "execution_count": 7,
          "metadata": {},
          "output_type": "execute_result"
        }
      ],
      "source": [
        "model.evaluate(test_dataset)"
      ]
    },
    {
      "cell_type": "code",
      "execution_count": 8,
      "metadata": {
        "id": "nu_livdniMUr"
      },
      "outputs": [
        {
          "name": "stdout",
          "output_type": "stream",
          "text": [
            "Average LogLikeliHood on test: 0.5566927\n"
          ]
        }
      ],
      "source": [
        "print(\"Average LogLikeliHood on test:\", np.mean(test_eval))"
      ]
    },
    {
      "cell_type": "markdown",
      "metadata": {
        "id": "5UnzlHChiMUr"
      },
      "source": [
        "## A larger and more complex dataset: Expedia ICDM 2013\n",
        "The RUMnet paper benchmarks the model on a second dataset. If you want to use it you need to download the file from [Kaggle](https://www.kaggle.com/c/expedia-personalized-sort) and place the train.csv file in the folder choice_learn/datasets/data with the name expedia.csv."
      ]
    },
    {
      "cell_type": "code",
      "execution_count": null,
      "metadata": {
        "id": "KaL2ZkytiMUs"
      },
      "outputs": [],
      "source": [
        "from choice_learn.datasets import load_expedia\n",
        "\n",
        "# It takes some time...\n",
        "expedia_dataset = load_expedia(preprocessing=\"rumnet\")"
      ]
    },
    {
      "cell_type": "code",
      "execution_count": null,
      "metadata": {
        "id": "pJiXZTQfiMUs"
      },
      "outputs": [],
      "source": [
        "test_dataset = expedia_dataset[int(len(expedia_dataset)*0.8):]\n",
        "train_dataset = expedia_dataset[:int(len(expedia_dataset)*0.8)]\n",
        "\n",
        "model_args = {\n",
        "    \"num_products_features\": 46,\n",
        "    \"num_customer_features\": 84,\n",
        "    \"width_eps_x\": 10,\n",
        "    \"depth_eps_x\": 3,\n",
        "    \"heterogeneity_x\": 5,\n",
        "    \"width_eps_z\": 10,\n",
        "    \"depth_eps_z\": 3,\n",
        "    \"heterogeneity_z\": 5,\n",
        "    \"width_u\": 10,\n",
        "    \"depth_u\": 3,\n",
        "    \"tol\": 0,\n",
        "    \"optimizer\": \"Adam\",\n",
        "    \"lr\": 0.001,\n",
        "    \"logmin\": 1e-10,\n",
        "    \"label_smoothing\": 0.02,\n",
        "    \"callbacks\": [],\n",
        "    \"epochs\": 15,\n",
        "    \"batch_size\": 128,\n",
        "    \"tol\": 1e-5,\n",
        "}\n",
        "model = RUMnet(**model_args)\n",
        "model.instantiate()\n",
        "\n",
        "losses = model.fit(train_dataset, val_dataset=test_dataset)\n",
        "probas = model.predict_probas(test_dataset)\n",
        "test_loss = tf.keras.losses.CategoricalCrossentropy(from_logits=False)(y_pred=model.predict_probas(test_dataset), y_true=tf.one_hot(test_dataset.choices, 39))\n",
        "\n",
        "print(test_loss)"
      ]
    },
    {
      "cell_type": "code",
      "execution_count": null,
      "metadata": {
        "id": "aQCxozniiMUs"
      },
      "outputs": [],
      "source": []
    }
  ],
  "metadata": {
    "colab": {
      "provenance": []
    },
    "kernelspec": {
      "display_name": "practica",
      "language": "python",
      "name": "python3"
    },
    "language_info": {
      "codemirror_mode": {
        "name": "ipython",
        "version": 3
      },
      "file_extension": ".py",
      "mimetype": "text/x-python",
      "name": "python",
      "nbconvert_exporter": "python",
      "pygments_lexer": "ipython3",
      "version": "3.12.6"
    }
  },
  "nbformat": 4,
  "nbformat_minor": 0
}
