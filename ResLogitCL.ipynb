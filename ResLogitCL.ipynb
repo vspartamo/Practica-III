{
 "cells": [
  {
   "cell_type": "markdown",
   "metadata": {},
   "source": [
    "# ResLogit \n",
    "El presenta notebook replica los experimentos de ResLogit con la librería Choice Learn."
   ]
  },
  {
   "cell_type": "markdown",
   "metadata": {},
   "source": [
    "\n",
    "We use the Swissmetro dataset to demonstrate how to use the ResLogit model"
   ]
  },
  {
   "cell_type": "code",
   "execution_count": 1,
   "metadata": {},
   "outputs": [],
   "source": [
    "import timeit\n",
    "import matplotlib.pyplot as plt\n",
    "import numpy as np\n",
    "import pandas as pd\n",
    "import tensorflow as tf\n",
    "\n",
    "from choice_learn.data import ChoiceDataset\n",
    "from choice_learn.models import ResLogit\n",
    "from choice_learn.datasets import load_swissmetro"
   ]
  },
  {
   "cell_type": "code",
   "execution_count": 2,
   "metadata": {},
   "outputs": [
    {
     "name": "stderr",
     "output_type": "stream",
     "text": [
      "WARNING:root:Column TRAIN_SEATS was not in DataFrame,                            dummy creation of the feature with zeros.\n",
      "WARNING:root:Column CAR_SEATS was not in DataFrame,                            dummy creation of the feature with zeros.\n"
     ]
    }
   ],
   "source": [
    "dataset = load_swissmetro(as_frame=False)"
   ]
  },
  {
   "cell_type": "code",
   "execution_count": 3,
   "metadata": {},
   "outputs": [
    {
     "name": "stdout",
     "output_type": "stream",
     "text": [
      "%=====================================================================%\n",
      "%%% Summary of the dataset:\n",
      "%=====================================================================%\n",
      "Number of items: 3\n",
      "Number of choices: 10719\n",
      "%=====================================================================%\n",
      " Shared Features by Choice:\n",
      " 12 shared features\n",
      " with names: (['GROUP', 'PURPOSE', 'FIRST', 'TICKET', 'WHO', 'LUGGAGE', 'AGE', 'MALE', 'INCOME', 'GA', 'ORIGIN', 'DEST'],)\n",
      "\n",
      "\n",
      " Items Features by Choice:\n",
      "4 items features \n",
      " with names: (['CO', 'TT', 'HE', 'SEATS'],)\n",
      "%=====================================================================%\n",
      "\n",
      "\n",
      "type(dataset)=<class 'choice_learn.data.choice_dataset.ChoiceDataset'>\n",
      "\n",
      "np.shape(dataset.items_features_by_choice)=(1, 10719, 3, 4)\n",
      "np.shape(dataset.shared_features_by_choice)=(1, 10719, 12)\n"
     ]
    }
   ],
   "source": [
    "dataset.summary()\n",
    "print(f\"\\n\\n{type(dataset)=}\")\n",
    "print(f\"\\n{np.shape(dataset.items_features_by_choice)=}\")\n",
    "print(f\"{np.shape(dataset.shared_features_by_choice)=}\")"
   ]
  },
  {
   "cell_type": "code",
   "execution_count": null,
   "metadata": {},
   "outputs": [],
   "source": [
    "n_items = np.shape(dataset.items_features_by_choice)[2]\n",
    "n_items_features = np.shape(dataset.items_features_by_choice)[3]\n",
    "n_shared_features = np.shape(dataset.shared_features_by_choice)[2]\n",
    "n_vars = n_items_features + n_shared_features\n",
    "n_choices = len(np.unique(dataset.choices))\n",
    "\n",
    "print(f\"{n_items=}\\n{n_items_features=}\\n{n_shared_features=}\\n{n_vars, n_choices=}\\n\\n\")"
   ]
  },
  {
   "cell_type": "code",
   "execution_count": null,
   "metadata": {},
   "outputs": [],
   "source": [
    "n_samples = len(dataset.choices)\n",
    "# Slicing index for train and valid split\n",
    "slice = np.floor(0.7 * n_samples).astype(int)\n",
    "train_indexes = np.arange(0, slice)\n",
    "test_indexes = np.arange(slice, n_samples)\n",
    "\n",
    "train_dataset = dataset[train_indexes]\n",
    "test_dataset = dataset[test_indexes]"
   ]
  },
  {
   "cell_type": "markdown",
   "metadata": {},
   "source": [
    "Now we can fit several ResLogit models with different numbers of residual layers. We will use the same learning rate and number of epochs for all models. We add itemwise intercept to all the models."
   ]
  },
  {
   "cell_type": "code",
   "execution_count": null,
   "metadata": {},
   "outputs": [],
   "source": [
    "model_args = {\n",
    "    \"intercept\": \"item\",\n",
    "    \"optimizer\": \"SGD\",\n",
    "    \"lr\": 1e-6,\n",
    "    \"epochs\": 100,\n",
    "}\n",
    "print(f\"{model_args=}\")"
   ]
  },
  {
   "cell_type": "code",
   "execution_count": null,
   "metadata": {},
   "outputs": [],
   "source": [
    "list_n_layers = [k for k in range(1, 17)]\n",
    "metrics = pd.DataFrame(columns=[\"n_layers\", \"fit_losses\", \"train_loss\", \"test_loss\", \"initial_trainable_weights\", \"final_trainable_weights\", \"execution_time\"])\n",
    "\n",
    "for n_layers in list_n_layers:\n",
    "    print(\"\\n------------------------------------\"\n",
    "          \"------------------------------------\"\n",
    "          f\"\\n{n_layers=}\")\n",
    "\n",
    "    start_time = timeit.default_timer()\n",
    "    model = ResLogit(n_layers=n_layers, **model_args)\n",
    "    model.instantiate(n_items=n_items, n_shared_features=n_shared_features, n_items_features=n_items_features)\n",
    "\n",
    "    initial_trainable_weights = [model.trainable_weights[i].numpy() for i in range(len(model.trainable_weights))]\n",
    "\n",
    "    fit_losses = model.fit(choice_dataset=train_dataset, val_dataset=test_dataset)\n",
    "\n",
    "    end_time = timeit.default_timer()\n",
    "    execution_time = end_time - start_time\n",
    "    print(f\"Execution time with {n_layers} residual layers: {execution_time} seconds\")\n",
    "\n",
    "    final_trainable_weights = [model.trainable_weights[i].numpy() for i in range(len(model.trainable_weights))]\n",
    "\n",
    "    new_metric_row = pd.DataFrame({\n",
    "        \"n_layers\": [n_layers],\n",
    "        \"fit_losses\": [fit_losses],\n",
    "        \"train_loss\": [model.evaluate(train_dataset)],\n",
    "        \"test_loss\": [model.evaluate(test_dataset)],\n",
    "        \"initial_trainable_weights\": [initial_trainable_weights],\n",
    "        \"final_trainable_weights\": [final_trainable_weights],\n",
    "        \"execution_time\": [execution_time]\n",
    "    })\n",
    "    metrics = pd.concat([metrics, new_metric_row], ignore_index=True)"
   ]
  },
  {
   "cell_type": "code",
   "execution_count": null,
   "metadata": {},
   "outputs": [],
   "source": [
    "metrics.head()"
   ]
  },
  {
   "cell_type": "code",
   "execution_count": null,
   "metadata": {},
   "outputs": [],
   "source": [
    "for index, row in metrics.iterrows():\n",
    "    plt.plot(row[\"fit_losses\"][\"train_loss\"], label=f\"n_layers={row['n_layers']}\")\n",
    "\n",
    "plt.xlabel(\"Epochs\")\n",
    "plt.ylabel(\"Training loss through the epochs\")\n",
    "plt.title(\"ResLogit model with different number of residual layers\")\n",
    "plt.legend()\n",
    "plt.show()"
   ]
  },
  {
   "cell_type": "code",
   "execution_count": null,
   "metadata": {},
   "outputs": [],
   "source": [
    "train_losses = [row[\"train_loss\"] for index, row in metrics.iterrows()]\n",
    "test_losses = [row[\"test_loss\"] for index, row in metrics.iterrows()]\n",
    "\n",
    "plt.plot(list_n_layers, train_losses, label=\"Train loss after the last epoch\")\n",
    "plt.plot(list_n_layers, test_losses, label=\"Test loss\")\n",
    "\n",
    "plt.xlabel(\"Number of residual layers\")\n",
    "plt.ylabel(\"Loss\")\n",
    "plt.title(\"ResLogit model with different number of residual layers\")\n",
    "plt.legend()\n",
    "plt.show()"
   ]
  },
  {
   "cell_type": "code",
   "execution_count": null,
   "metadata": {},
   "outputs": [],
   "source": [
    "execution_times = [row[\"execution_time\"] for index, row in metrics.iterrows()]\n",
    "\n",
    "plt.plot(list_n_layers, execution_times)\n",
    "\n",
    "plt.xlabel(\"Number of residual layers\")\n",
    "plt.ylabel(\"Execution time (s)\")\n",
    "plt.title(\"ResLogit model with different number of residual layers\")\n",
    "plt.legend()\n",
    "plt.show()"
   ]
  }
 ],
 "metadata": {
  "kernelspec": {
   "display_name": "Python 3",
   "language": "python",
   "name": "python3"
  },
  "language_info": {
   "codemirror_mode": {
    "name": "ipython",
    "version": 3
   },
   "file_extension": ".py",
   "mimetype": "text/x-python",
   "name": "python",
   "nbconvert_exporter": "python",
   "pygments_lexer": "ipython3",
   "version": "3.10.5"
  }
 },
 "nbformat": 4,
 "nbformat_minor": 2
}
