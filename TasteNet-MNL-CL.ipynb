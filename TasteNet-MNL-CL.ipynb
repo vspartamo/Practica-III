{
 "cells": [
  {
   "cell_type": "markdown",
   "metadata": {},
   "source": [
    "# TasteNet-MNL \n",
    "\n",
    "El presente notebook busca replicar experimentos de los autores del paper de TasteNet-MNL con el uso de la librería Choice Learn de python."
   ]
  },
  {
   "cell_type": "markdown",
   "metadata": {},
   "source": [
    "Ventajas de utilizar la implementación de Choice Learn por sobre las implementaciones de los autores de los modelos:\n",
    "\n",
    "- Escalabilidad\n",
    "\n",
    "- Enfoque a los grandes volúmenes de datos\n",
    "\n",
    "- Mantenimiento \n",
    "\n",
    "- Documentación\n",
    "\n",
    "- Generalizacion"
   ]
  }
 ],
 "metadata": {
  "language_info": {
   "name": "python"
  }
 },
 "nbformat": 4,
 "nbformat_minor": 2
}
