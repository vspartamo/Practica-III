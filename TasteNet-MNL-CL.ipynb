{
 "cells": [
  {
   "cell_type": "markdown",
   "metadata": {},
   "source": [
    "# TasteNet-MNL \n",
    "\n",
    "El presente notebook busca replicar experimentos de los autores del paper de TasteNet-MNL con el uso de la librería Choice Learn de python."
   ]
  },
  {
   "cell_type": "markdown",
   "metadata": {},
   "source": [
    "Ventajas de utilizar la implementación de Choice Learn por sobre las implementaciones de los autores de los modelos:\n",
    "\n",
    "- Escalabilidad\n",
    "\n",
    "- Enfoque a los grandes volúmenes de datos\n",
    "\n",
    "- Mantenimiento \n",
    "\n",
    "- Documentación\n",
    "\n",
    "- Generalizacion"
   ]
  },
  {
   "cell_type": "markdown",
   "metadata": {},
   "source": [
    "# TasteNet\n",
    "\n",
    "The TasteNet model is available in Choice-Learn. Here is a small example on how it can be used.\\\n",
    "Following the paper, we will use it on the SwissMetro [2] dataset.\n",
    "\n",
    "### Summary\n",
    "- [Data Loading](#data-loading)\n",
    "- [Model Parametrization](#model-parametrization)\n",
    "- [Model Estimation](#model-estimation)\n",
    "- [Estimated Tastes Analysis](#estimated-tastes-analysis)\n",
    "- [References](#references)"
   ]
  },
  {
   "cell_type": "code",
   "execution_count": null,
   "metadata": {},
   "outputs": [],
   "source": [
    "import numpy as np\n",
    "import pandas as pd\n",
    "\n",
    "from choice_learn.datasets import load_swissmetro\n",
    "from choice_learn.models.tastenet import TasteNet"
   ]
  },
  {
   "cell_type": "code",
   "execution_count": null,
   "metadata": {},
   "outputs": [],
   "source": [
    "# The preprocessing=\"tastenet\" let us format the data just like in the paper\n",
    "customers_id, dataset = load_swissmetro(preprocessing=\"tastenet\", as_frame=False)"
   ]
  },
  {
   "cell_type": "code",
   "execution_count": null,
   "metadata": {},
   "outputs": [],
   "source": [
    "print(\"Items Features:\", dataset.items_features_by_choice_names)\n",
    "print(\"Shared Features:\", dataset.shared_features_by_choice_names)"
   ]
  },
  {
   "cell_type": "markdown",
   "metadata": {},
   "source": [
    "### Parametrización del modelo\n",
    "\n",
    "Los elementos del conjunto de datos están ordenados: \"TREN\", \"SM\" y \"CAR\". Ahora podemos configurar los hiperparámetros del modelo TasteNet.\n",
    "- **taste_net_layers:** lista del número de neuronas para cada capa en la red neuronal del sabor\n",
    "- **taste_net_activation:** función de activación que se utilizará dentro de la red neuronal del gusto\n",
    "- **items_features_by_choice_parametrization:** parametrización de los coeficientes estimados para las Características de los Artículos.\n",
    "\n",
    "TasteNet utiliza las características del cliente (shared_features_by_choice) para estimar diferentes coeficientes que se multiplicarán con características alternativas (items_features_by_choice) para estimar la utilidad:\n",
    "$$ U(alternativa) = \\sum_{i \\in características alternativas} f(NN_i(características del cliente)) \\cdot i$$\n",
    "\n",
    "Con $f$ una función de normalización que se puede utilizar para establecer algunas restricciones como la positividad.\n",
    "\n",
    "**items_features_by_choice_parametrization** describe la parametrización de cada característica alternativa y, por lo tanto, debe tener la misma forma, (3, 7) en nuestro caso. Los índices también deben coincidir.\n",
    "- si el parámetro es flotante, el valor se utiliza directamente para multiplicar la característica correspondiente.\n",
    "- si el parámetro es una cadena, indica qué función $f$ usar, lo que significa que usaremos la red neuronal de sabor para estimar un parámetro antes de usar $f$."
   ]
  },
  {
   "cell_type": "code",
   "execution_count": null,
   "metadata": {},
   "outputs": [],
   "source": [
    "taste_net_layers = []\n",
    "taste_net_activation = \"relu\"\n",
    "items_features_by_choice_parametrization = [[-1., \"-exp\", \"-exp\", 0., \"linear\", 0., 0.],\n",
    "                            [-1., \"-exp\", \"-exp\", \"linear\", 0., \"linear\", 0.],\n",
    "                            [-1., \"-exp\", 0., 0., 0., 0., 0.]]"
   ]
  },
  {
   "cell_type": "markdown",
   "metadata": {},
   "source": [
    "In this example from the paper, the utilities defined by *items_features_by_choice_parametrization* are the following:\n",
    "\n",
    "With $\\mathcal{C}$ the customer features and $NN_k$ the output of the taste embedding neural network:\n",
    "$$\n",
    "U(train) = -1 \\cdot train_{CO} - e^{-NN_1(\\mathcal{C})} \\cdot train_{TT} - e^{-NN_2(\\mathcal{C})} \\cdot train_{HE} + NN_3(\\mathcal{C}) \\cdot ASC_{train}\n",
    "$$\n",
    "\n",
    "$$\n",
    "U(sm) = -1 \\cdot sm_{CO} - e^{-NN_4(\\mathcal{C})} \\cdot sm_{TT} - e^{-NN_5(\\mathcal{C})} \\cdot sm_{HE} + NN_6(\\mathcal{C}) \\cdot sm_{SEATS} + NN_7(\\mathcal{C}) \\cdot ASC_{sm}\n",
    "$$\n",
    "\n",
    "$$\n",
    "U(car) = -1 \\cdot car_{CO} - e^{-NN_8(\\mathcal{C})} \\cdot car_{TT} \n",
    "$$\n",
    "\n",
    "In order to evaluate the model we work with a Cross-Validation scheme. We need to pay attention that the split take into account the fact that the same person has answered several times and appears several time in the dataset. We work with a GroupOut strategy meaning that one person has all his answers in the same testing fold."
   ]
  },
  {
   "cell_type": "markdown",
   "metadata": {},
   "source": [
    "### Model estimation"
   ]
  },
  {
   "cell_type": "code",
   "execution_count": null,
   "metadata": {},
   "outputs": [],
   "source": [
    "from sklearn.model_selection import GroupKFold\n",
    "\n",
    "folds_history = []\n",
    "folds_test_nll = []\n",
    "gkf = GroupKFold(n_splits=5)\n",
    "# specift customer_id to regroup each customer answer\n",
    "for train, test in gkf.split(list(range(len(dataset))), list(range(len(dataset))), customers_id): \n",
    "    tastenet = TasteNet(taste_net_layers=taste_net_layers,\n",
    "                    taste_net_activation=taste_net_activation,\n",
    "                    items_features_by_choice_parametrization=items_features_by_choice_parametrization,\n",
    "                    optimizer=\"Adam\",\n",
    "                    epochs=40,\n",
    "                    lr=0.001,\n",
    "                    batch_size=32)\n",
    "    train_dataset, test_dataset = dataset[train], dataset[test]\n",
    "    hist = tastenet.fit(train_dataset, val_dataset=test_dataset)\n",
    "    folds_history.append(hist)\n",
    "    folds_test_nll.append(tastenet.evaluate(test_dataset))"
   ]
  },
  {
   "cell_type": "markdown",
   "metadata": {},
   "source": [
    "We need to pay attention to overfitting, here is a plot to understand each fold train/test over the fitting epochs:"
   ]
  },
  {
   "cell_type": "code",
   "execution_count": null,
   "metadata": {},
   "outputs": [],
   "source": [
    "import matplotlib.pyplot as plt\n",
    "for hist, color in zip(folds_history,\n",
    "                       [\"darkblue\", \"slateblue\", \"mediumpurple\", \"violet\", \"hotpink\"]):\n",
    "    plt.plot(hist[\"train_loss\"], c=color)\n",
    "    plt.plot(hist[\"test_loss\"], c=color, linestyle=\"dotted\")\n",
    "plt.legend()\n",
    "plt.show()"
   ]
  },
  {
   "cell_type": "code",
   "execution_count": null,
   "metadata": {},
   "outputs": [],
   "source": [
    "print(\"Average NegativeLogLikelihood on testing set:\", np.mean(folds_test_nll))"
   ]
  },
  {
   "cell_type": "markdown",
   "metadata": {},
   "source": [
    "### Estimated Tastes Analysis\n",
    "\n",
    "In order to analyze the model, one can look at the average output of the taste network.\n",
    "It is possible to reach the taste network with *tastenet.taste_params_module* or to call *tastenet.predict_tastes*."
   ]
  },
  {
   "cell_type": "code",
   "execution_count": null,
   "metadata": {},
   "outputs": [],
   "source": [
    "for (item_index, feature_index), nn_output_index in tastenet.items_features_to_weight_index.items():\n",
    "    print(\"Alternative:\", [\"train\", \"sm\", \"car\"][item_index])\n",
    "    print(\"Feature:\", dataset.items_features_by_choice_names[0][feature_index])\n",
    "    print(\"Average value over dataset:\")\n",
    "    act = tastenet.get_activation_function(items_features_by_choice_parametrization[item_index][feature_index])\n",
    "    print(np.mean(act(tastenet.predict_tastes(dataset.shared_features_by_choice[0])[:, nn_output_index])))\n",
    "    print(\"----------------------------\\n\")"
   ]
  }
 ],
 "metadata": {
  "kernelspec": {
   "display_name": "base",
   "language": "python",
   "name": "python3"
  },
  "language_info": {
   "codemirror_mode": {
    "name": "ipython",
    "version": 3
   },
   "file_extension": ".py",
   "mimetype": "text/x-python",
   "name": "python",
   "nbconvert_exporter": "python",
   "pygments_lexer": "ipython3",
   "version": "3.10.14"
  }
 },
 "nbformat": 4,
 "nbformat_minor": 2
}
